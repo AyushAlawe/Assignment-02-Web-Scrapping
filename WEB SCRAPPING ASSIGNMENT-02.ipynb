{
 "cells": [
  {
   "cell_type": "markdown",
   "id": "713b7870",
   "metadata": {},
   "source": [
    "## WEB SCRAPPING"
   ]
  },
  {
   "cell_type": "code",
   "execution_count": 20,
   "id": "45fff924",
   "metadata": {
    "scrolled": true
   },
   "outputs": [
    {
     "name": "stdout",
     "output_type": "stream",
     "text": [
      "Defaulting to user installation because normal site-packages is not writeable\n",
      "Requirement already satisfied: bs4 in c:\\users\\asus\\appdata\\roaming\\python\\python39\\site-packages (0.0.1)\n",
      "Requirement already satisfied: beautifulsoup4 in c:\\programdata\\anaconda3\\lib\\site-packages (from bs4) (4.11.1)\n",
      "Requirement already satisfied: soupsieve>1.2 in c:\\programdata\\anaconda3\\lib\\site-packages (from beautifulsoup4->bs4) (2.3.1)\n",
      "Note: you may need to restart the kernel to use updated packages.\n"
     ]
    }
   ],
   "source": [
    "pip install bs4"
   ]
  },
  {
   "cell_type": "code",
   "execution_count": 18,
   "id": "a17b7495",
   "metadata": {},
   "outputs": [],
   "source": [
    "# Importing BeautifulSoup, requests and pandas library\n",
    "from bs4 import BeautifulSoup\n",
    "import requests\n",
    "import pandas as pd\n"
   ]
  },
  {
   "cell_type": "code",
   "execution_count": 3,
   "id": "8d6be325",
   "metadata": {},
   "outputs": [],
   "source": [
    "# Website from which data to be scrapped\n",
    "url = 'http://quotes.toscrape.com/page/1/'"
   ]
  },
  {
   "cell_type": "code",
   "execution_count": 4,
   "id": "120a799f",
   "metadata": {},
   "outputs": [],
   "source": [
    "# Getting pandas readable data from website(url)\n",
    "response = requests.get(url)"
   ]
  },
  {
   "cell_type": "code",
   "execution_count": 5,
   "id": "06c43df1",
   "metadata": {},
   "outputs": [],
   "source": [
    "# Getting only text (content) from website\n",
    "response = response.content"
   ]
  },
  {
   "cell_type": "code",
   "execution_count": 6,
   "id": "bd042de3",
   "metadata": {},
   "outputs": [],
   "source": [
    "# Saving website content data into soup variable\n",
    "soup = BeautifulSoup(response,'html.parser')"
   ]
  },
  {
   "cell_type": "code",
   "execution_count": 40,
   "id": "521e0d01",
   "metadata": {},
   "outputs": [],
   "source": [
    "#Checking website text data into pandas readable form\n",
    "soup"
   ]
  },
  {
   "cell_type": "code",
   "execution_count": 11,
   "id": "ead47ce9",
   "metadata": {},
   "outputs": [],
   "source": [
    "# Saving required data to be scrapped, into the variable 'divs'\n",
    "divs = soup.find_all('div',class_='quote')\n"
   ]
  },
  {
   "cell_type": "code",
   "execution_count": 41,
   "id": "1b5adac8",
   "metadata": {},
   "outputs": [],
   "source": [
    "# Checking what is extracted from divs variable\n",
    "divs"
   ]
  },
  {
   "cell_type": "markdown",
   "id": "a7636b5c",
   "metadata": {},
   "source": [
    "### Now, we have to scrap- quotes, tags and authors from the webiste. "
   ]
  },
  {
   "cell_type": "code",
   "execution_count": 21,
   "id": "d7de8e57",
   "metadata": {},
   "outputs": [
    {
     "name": "stdout",
     "output_type": "stream",
     "text": [
      "“The world as we have created it is a process of our thinking. It cannot be changed without changing our thinking.”\n",
      "“It is our choices, Harry, that show what we truly are, far more than our abilities.”\n",
      "“There are only two ways to live your life. One is as though nothing is a miracle. The other is as though everything is a miracle.”\n",
      "“The person, be it gentleman or lady, who has not pleasure in a good novel, must be intolerably stupid.”\n",
      "“Imperfection is beauty, madness is genius and it's better to be absolutely ridiculous than absolutely boring.”\n",
      "“Try not to become a man of success. Rather become a man of value.”\n",
      "“It is better to be hated for what you are than to be loved for what you are not.”\n",
      "“I have not failed. I've just found 10,000 ways that won't work.”\n",
      "“A woman is like a tea bag; you never know how strong it is until it's in hot water.”\n",
      "“A day without sunshine is like, you know, night.”\n"
     ]
    }
   ],
   "source": [
    "# Scrapping Quotes from the website:\n",
    "for article in divs:\n",
    "    quotes = article.find('span',class_='text').text\n",
    "    print(quotes)"
   ]
  },
  {
   "cell_type": "code",
   "execution_count": 39,
   "id": "ae0b1afb",
   "metadata": {},
   "outputs": [
    {
     "name": "stdout",
     "output_type": "stream",
     "text": [
      "change\n",
      "abilities\n",
      "inspirational\n",
      "aliteracy\n",
      "be-yourself\n",
      "adulthood\n",
      "life\n",
      "edison\n",
      "misattributed-eleanor-roosevelt\n",
      "humor\n"
     ]
    }
   ],
   "source": [
    "# Scrapping Tags from the website:\n",
    "for article in divs:\n",
    "    tags = article.find('a',class_='tag').text\n",
    "    print(tags)"
   ]
  },
  {
   "cell_type": "code",
   "execution_count": 36,
   "id": "663b4bac",
   "metadata": {},
   "outputs": [
    {
     "name": "stdout",
     "output_type": "stream",
     "text": [
      "Albert Einstein\n",
      "J.K. Rowling\n",
      "Albert Einstein\n",
      "Jane Austen\n",
      "Marilyn Monroe\n",
      "Albert Einstein\n",
      "André Gide\n",
      "Thomas A. Edison\n",
      "Eleanor Roosevelt\n",
      "Steve Martin\n"
     ]
    }
   ],
   "source": [
    "# Scrapping Authors from the website:\n",
    "for article in divs:\n",
    "    author = article.find('small',class_='author').text\n",
    "    print(author)"
   ]
  },
  {
   "cell_type": "code",
   "execution_count": null,
   "id": "26d45ac5",
   "metadata": {},
   "outputs": [],
   "source": []
  },
  {
   "cell_type": "code",
   "execution_count": null,
   "id": "302ab0b1",
   "metadata": {},
   "outputs": [],
   "source": []
  }
 ],
 "metadata": {
  "kernelspec": {
   "display_name": "Python 3 (ipykernel)",
   "language": "python",
   "name": "python3"
  },
  "language_info": {
   "codemirror_mode": {
    "name": "ipython",
    "version": 3
   },
   "file_extension": ".py",
   "mimetype": "text/x-python",
   "name": "python",
   "nbconvert_exporter": "python",
   "pygments_lexer": "ipython3",
   "version": "3.9.13"
  }
 },
 "nbformat": 4,
 "nbformat_minor": 5
}
